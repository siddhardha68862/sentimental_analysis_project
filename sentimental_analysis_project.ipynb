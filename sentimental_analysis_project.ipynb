{
 "cells": [
  {
   "cell_type": "code",
   "execution_count": 54,
   "id": "14b0aede-fed7-4651-aa41-a03089f03bcb",
   "metadata": {},
   "outputs": [],
   "source": [
    "import pandas as pd\n",
    "import numpy as np\n",
    "import matplotlib.pyplot as plt\n",
    "import seaborn as sns\n",
    "plt.style.use('ggplot')"
   ]
  },
  {
   "cell_type": "code",
   "execution_count": 55,
   "id": "fbdd3a80-c88c-4eee-b94c-93e6e34e03ac",
   "metadata": {},
   "outputs": [],
   "source": [
    "import nltk\n",
    "from nltk.tokenize import word_tokenize\n",
    "from nltk.corpus import stopwords\n",
    "from nltk.stem import WordNetLemmatizer\n",
    "from nltk.sentiment import SentimentIntensityAnalyzer\n"
   ]
  },
  {
   "cell_type": "code",
   "execution_count": 56,
   "id": "fdbe1920-302a-4440-812a-d254395f0e93",
   "metadata": {},
   "outputs": [
    {
     "data": {
      "text/html": [
       "<div>\n",
       "<style scoped>\n",
       "    .dataframe tbody tr th:only-of-type {\n",
       "        vertical-align: middle;\n",
       "    }\n",
       "\n",
       "    .dataframe tbody tr th {\n",
       "        vertical-align: top;\n",
       "    }\n",
       "\n",
       "    .dataframe thead th {\n",
       "        text-align: right;\n",
       "    }\n",
       "</style>\n",
       "<table border=\"1\" class=\"dataframe\">\n",
       "  <thead>\n",
       "    <tr style=\"text-align: right;\">\n",
       "      <th></th>\n",
       "      <th>Unnamed: 0</th>\n",
       "      <th>reviewerName</th>\n",
       "      <th>overall</th>\n",
       "      <th>reviewText</th>\n",
       "      <th>reviewTime</th>\n",
       "      <th>day_diff</th>\n",
       "      <th>helpful_yes</th>\n",
       "      <th>helpful_no</th>\n",
       "      <th>total_vote</th>\n",
       "      <th>score_pos_neg_diff</th>\n",
       "      <th>score_average_rating</th>\n",
       "      <th>wilson_lower_bound</th>\n",
       "    </tr>\n",
       "  </thead>\n",
       "  <tbody>\n",
       "    <tr>\n",
       "      <th>0</th>\n",
       "      <td>0</td>\n",
       "      <td>NaN</td>\n",
       "      <td>4</td>\n",
       "      <td>No issues.</td>\n",
       "      <td>2014-07-23</td>\n",
       "      <td>138</td>\n",
       "      <td>0</td>\n",
       "      <td>0</td>\n",
       "      <td>0</td>\n",
       "      <td>0</td>\n",
       "      <td>0.0</td>\n",
       "      <td>0.0</td>\n",
       "    </tr>\n",
       "    <tr>\n",
       "      <th>1</th>\n",
       "      <td>1</td>\n",
       "      <td>0mie</td>\n",
       "      <td>5</td>\n",
       "      <td>Purchased this for my device, it worked as adv...</td>\n",
       "      <td>2013-10-25</td>\n",
       "      <td>409</td>\n",
       "      <td>0</td>\n",
       "      <td>0</td>\n",
       "      <td>0</td>\n",
       "      <td>0</td>\n",
       "      <td>0.0</td>\n",
       "      <td>0.0</td>\n",
       "    </tr>\n",
       "    <tr>\n",
       "      <th>2</th>\n",
       "      <td>2</td>\n",
       "      <td>1K3</td>\n",
       "      <td>4</td>\n",
       "      <td>it works as expected. I should have sprung for...</td>\n",
       "      <td>2012-12-23</td>\n",
       "      <td>715</td>\n",
       "      <td>0</td>\n",
       "      <td>0</td>\n",
       "      <td>0</td>\n",
       "      <td>0</td>\n",
       "      <td>0.0</td>\n",
       "      <td>0.0</td>\n",
       "    </tr>\n",
       "    <tr>\n",
       "      <th>3</th>\n",
       "      <td>3</td>\n",
       "      <td>1m2</td>\n",
       "      <td>5</td>\n",
       "      <td>This think has worked out great.Had a diff. br...</td>\n",
       "      <td>2013-11-21</td>\n",
       "      <td>382</td>\n",
       "      <td>0</td>\n",
       "      <td>0</td>\n",
       "      <td>0</td>\n",
       "      <td>0</td>\n",
       "      <td>0.0</td>\n",
       "      <td>0.0</td>\n",
       "    </tr>\n",
       "    <tr>\n",
       "      <th>4</th>\n",
       "      <td>4</td>\n",
       "      <td>2&amp;amp;1/2Men</td>\n",
       "      <td>5</td>\n",
       "      <td>Bought it with Retail Packaging, arrived legit...</td>\n",
       "      <td>2013-07-13</td>\n",
       "      <td>513</td>\n",
       "      <td>0</td>\n",
       "      <td>0</td>\n",
       "      <td>0</td>\n",
       "      <td>0</td>\n",
       "      <td>0.0</td>\n",
       "      <td>0.0</td>\n",
       "    </tr>\n",
       "  </tbody>\n",
       "</table>\n",
       "</div>"
      ],
      "text/plain": [
       "   Unnamed: 0  reviewerName  overall  \\\n",
       "0           0           NaN        4   \n",
       "1           1          0mie        5   \n",
       "2           2           1K3        4   \n",
       "3           3           1m2        5   \n",
       "4           4  2&amp;1/2Men        5   \n",
       "\n",
       "                                          reviewText  reviewTime  day_diff  \\\n",
       "0                                         No issues.  2014-07-23       138   \n",
       "1  Purchased this for my device, it worked as adv...  2013-10-25       409   \n",
       "2  it works as expected. I should have sprung for...  2012-12-23       715   \n",
       "3  This think has worked out great.Had a diff. br...  2013-11-21       382   \n",
       "4  Bought it with Retail Packaging, arrived legit...  2013-07-13       513   \n",
       "\n",
       "   helpful_yes  helpful_no  total_vote  score_pos_neg_diff  \\\n",
       "0            0           0           0                   0   \n",
       "1            0           0           0                   0   \n",
       "2            0           0           0                   0   \n",
       "3            0           0           0                   0   \n",
       "4            0           0           0                   0   \n",
       "\n",
       "   score_average_rating  wilson_lower_bound  \n",
       "0                   0.0                 0.0  \n",
       "1                   0.0                 0.0  \n",
       "2                   0.0                 0.0  \n",
       "3                   0.0                 0.0  \n",
       "4                   0.0                 0.0  "
      ]
     },
     "execution_count": 56,
     "metadata": {},
     "output_type": "execute_result"
    }
   ],
   "source": [
    "data=pd.read_csv('amazon_reviews.csv')\n",
    "data.head()"
   ]
  },
  {
   "cell_type": "code",
   "execution_count": 57,
   "id": "4bf93773-8407-4a77-b91b-1ea6d5cad2fa",
   "metadata": {},
   "outputs": [
    {
     "data": {
      "text/plain": [
       "Index(['Unnamed: 0', 'reviewerName', 'overall', 'reviewText', 'reviewTime',\n",
       "       'day_diff', 'helpful_yes', 'helpful_no', 'total_vote',\n",
       "       'score_pos_neg_diff', 'score_average_rating', 'wilson_lower_bound'],\n",
       "      dtype='object')"
      ]
     },
     "execution_count": 57,
     "metadata": {},
     "output_type": "execute_result"
    }
   ],
   "source": [
    "data.columns"
   ]
  },
  {
   "cell_type": "code",
   "execution_count": 58,
   "id": "cd9c30a9-9d83-415a-bdae-c3578f6263bf",
   "metadata": {},
   "outputs": [
    {
     "data": {
      "text/plain": [
       "np.int64(0)"
      ]
     },
     "execution_count": 58,
     "metadata": {},
     "output_type": "execute_result"
    }
   ],
   "source": [
    "data[\"reviewText\"].isnull().sum()\n",
    "data[\"reviewText\"]=data[\"reviewText\"].fillna('missing')\n",
    "data[\"reviewText\"].isnull().sum()"
   ]
  },
  {
   "cell_type": "code",
   "execution_count": 59,
   "id": "00152b17-a3ff-4843-94c3-7c44a8db7ed9",
   "metadata": {},
   "outputs": [
    {
     "name": "stdout",
     "output_type": "stream",
     "text": [
      "4915\n",
      "(4915, 12)\n"
     ]
    }
   ],
   "source": [
    "print(len(data))\n",
    "print(data.shape)"
   ]
  },
  {
   "cell_type": "code",
   "execution_count": 60,
   "id": "ce055c00-9914-441e-bfba-6662eb9d0e95",
   "metadata": {},
   "outputs": [],
   "source": [
    "data=data.head(500)"
   ]
  },
  {
   "cell_type": "code",
   "execution_count": 61,
   "id": "99c3f5b4-a550-432f-a2e5-483846e8c2e8",
   "metadata": {},
   "outputs": [
    {
     "name": "stdout",
     "output_type": "stream",
     "text": [
      "500\n",
      "(500, 12)\n"
     ]
    }
   ],
   "source": [
    "print(len(data))\n",
    "print(data.shape)"
   ]
  },
  {
   "cell_type": "code",
   "execution_count": 62,
   "id": "1f6d8756-50d2-43b3-bef9-fdca87d155a8",
   "metadata": {},
   "outputs": [
    {
     "data": {
      "text/plain": [
       "'Works in a HTC Rezound.  Was running short of space on a 64GB Sandisk so I ordered this when it came out, fast and no issues.'"
      ]
     },
     "execution_count": 62,
     "metadata": {},
     "output_type": "execute_result"
    }
   ],
   "source": [
    "example=data[\"reviewText\"][8]\n",
    "example"
   ]
  },
  {
   "cell_type": "code",
   "execution_count": 63,
   "id": "8d820b8c-bccf-4228-aa1d-9ae3eeb9e6b6",
   "metadata": {},
   "outputs": [
    {
     "data": {
      "text/plain": [
       "['Works',\n",
       " 'in',\n",
       " 'a',\n",
       " 'HTC',\n",
       " 'Rezound',\n",
       " '.',\n",
       " 'Was',\n",
       " 'running',\n",
       " 'short',\n",
       " 'of',\n",
       " 'space',\n",
       " 'on',\n",
       " 'a',\n",
       " '64GB',\n",
       " 'Sandisk',\n",
       " 'so',\n",
       " 'I',\n",
       " 'ordered',\n",
       " 'this',\n",
       " 'when',\n",
       " 'it',\n",
       " 'came',\n",
       " 'out',\n",
       " ',',\n",
       " 'fast',\n",
       " 'and',\n",
       " 'no',\n",
       " 'issues',\n",
       " '.']"
      ]
     },
     "execution_count": 63,
     "metadata": {},
     "output_type": "execute_result"
    }
   ],
   "source": [
    "word_tokenize(example)"
   ]
  },
  {
   "cell_type": "code",
   "execution_count": 64,
   "id": "2c29d860-3e48-49e8-856e-fe56f86b4102",
   "metadata": {},
   "outputs": [],
   "source": [
    "data[\"reviewText\"]=data[\"reviewText\"].str.lower()"
   ]
  },
  {
   "cell_type": "code",
   "execution_count": 65,
   "id": "61b657ad-0daa-417e-8869-b96eaa6d136c",
   "metadata": {},
   "outputs": [],
   "source": [
    "import re"
   ]
  },
  {
   "cell_type": "code",
   "execution_count": 66,
   "id": "f00a5434-1fd0-4e94-82b5-9f347acea887",
   "metadata": {},
   "outputs": [],
   "source": [
    "data[\"reviewText\"]=data[\"reviewText\"].apply(lambda text:re.sub(r'[^\\w\\s]','',text))\n"
   ]
  },
  {
   "cell_type": "code",
   "execution_count": 67,
   "id": "5491831c-8125-4e00-8d94-6131c3183d2e",
   "metadata": {},
   "outputs": [],
   "source": [
    "data[\"reviewText\"]=data[\"reviewText\"].apply(word_tokenize)"
   ]
  },
  {
   "cell_type": "code",
   "execution_count": 68,
   "id": "ac082d72-5ffa-4173-ac41-e022d6cccad2",
   "metadata": {},
   "outputs": [],
   "source": [
    "stop_words=set(stopwords.words('english'))"
   ]
  },
  {
   "cell_type": "code",
   "execution_count": 69,
   "id": "2b36dfcd-760d-4930-ad28-3b524fac514b",
   "metadata": {},
   "outputs": [],
   "source": [
    "data[\"reviewText\"]=data[\"reviewText\"].apply(lambda words:[word for word in words if word not in stop_words])"
   ]
  },
  {
   "cell_type": "code",
   "execution_count": 70,
   "id": "25d3e6dc-7f27-4ff8-81c1-b5a1c7fa1ffb",
   "metadata": {},
   "outputs": [],
   "source": [
    "lemmatizer=WordNetLemmatizer()"
   ]
  },
  {
   "cell_type": "code",
   "execution_count": 71,
   "id": "0445d652-5069-4980-bade-1d59cfcdbae0",
   "metadata": {},
   "outputs": [],
   "source": [
    "data[\"reviewText\"]=data[\"reviewText\"].apply(lambda words:[lemmatizer.lemmatize(word) for word in words])"
   ]
  },
  {
   "cell_type": "code",
   "execution_count": 72,
   "id": "cc3dc8fe-8e81-49d3-bea3-be13ebc88233",
   "metadata": {},
   "outputs": [],
   "source": [
    "data[\"reviewText\"]=data[\"reviewText\"].apply(lambda words:' '.join(words))"
   ]
  },
  {
   "cell_type": "code",
   "execution_count": 73,
   "id": "54160690-673b-463b-b496-777d57cbb3d5",
   "metadata": {},
   "outputs": [],
   "source": [
    "sia=SentimentIntensityAnalyzer()"
   ]
  },
  {
   "cell_type": "code",
   "execution_count": 74,
   "id": "8f80165d-f636-49c0-a3cd-501f982e1846",
   "metadata": {},
   "outputs": [],
   "source": [
    "data[\"senti\"]=data[\"reviewText\"].apply(lambda text:sia.polarity_scores(text)['compound'])"
   ]
  },
  {
   "cell_type": "code",
   "execution_count": 75,
   "id": "5d566e99-2940-49bb-8944-ff6aa09d9703",
   "metadata": {},
   "outputs": [],
   "source": [
    "def sentiment_analysis():\n",
    "    if data[\"senti\"]>0:\n",
    "        print('positive')\n",
    "    elif data[\"senti\"]<0:\n",
    "        print('negative')\n",
    "    else:\n",
    "        print('neutral')\n",
    "        "
   ]
  },
  {
   "cell_type": "code",
   "execution_count": 79,
   "id": "f22a0e71-d03e-427a-8d16-99aba1ba5d7c",
   "metadata": {},
   "outputs": [],
   "source": [
    "data[\"sentiment\"]=data[\"senti\"].apply(lambda score:'positive' if score>0 else('negative' if score<0 else'neutral'))"
   ]
  },
  {
   "cell_type": "code",
   "execution_count": 80,
   "id": "55f68cfa-cf4b-4ccf-b9af-384a1376ae8f",
   "metadata": {},
   "outputs": [
    {
     "data": {
      "text/html": [
       "<div>\n",
       "<style scoped>\n",
       "    .dataframe tbody tr th:only-of-type {\n",
       "        vertical-align: middle;\n",
       "    }\n",
       "\n",
       "    .dataframe tbody tr th {\n",
       "        vertical-align: top;\n",
       "    }\n",
       "\n",
       "    .dataframe thead th {\n",
       "        text-align: right;\n",
       "    }\n",
       "</style>\n",
       "<table border=\"1\" class=\"dataframe\">\n",
       "  <thead>\n",
       "    <tr style=\"text-align: right;\">\n",
       "      <th></th>\n",
       "      <th>Unnamed: 0</th>\n",
       "      <th>reviewerName</th>\n",
       "      <th>overall</th>\n",
       "      <th>reviewText</th>\n",
       "      <th>reviewTime</th>\n",
       "      <th>day_diff</th>\n",
       "      <th>helpful_yes</th>\n",
       "      <th>helpful_no</th>\n",
       "      <th>total_vote</th>\n",
       "      <th>score_pos_neg_diff</th>\n",
       "      <th>score_average_rating</th>\n",
       "      <th>wilson_lower_bound</th>\n",
       "      <th>senti</th>\n",
       "      <th>sentiment</th>\n",
       "    </tr>\n",
       "  </thead>\n",
       "  <tbody>\n",
       "    <tr>\n",
       "      <th>0</th>\n",
       "      <td>0</td>\n",
       "      <td>NaN</td>\n",
       "      <td>4</td>\n",
       "      <td>issue</td>\n",
       "      <td>2014-07-23</td>\n",
       "      <td>138</td>\n",
       "      <td>0</td>\n",
       "      <td>0</td>\n",
       "      <td>0</td>\n",
       "      <td>0</td>\n",
       "      <td>0.0</td>\n",
       "      <td>0.0</td>\n",
       "      <td>0.0000</td>\n",
       "      <td>neutral</td>\n",
       "    </tr>\n",
       "    <tr>\n",
       "      <th>1</th>\n",
       "      <td>1</td>\n",
       "      <td>0mie</td>\n",
       "      <td>5</td>\n",
       "      <td>purchased device worked advertised never much ...</td>\n",
       "      <td>2013-10-25</td>\n",
       "      <td>409</td>\n",
       "      <td>0</td>\n",
       "      <td>0</td>\n",
       "      <td>0</td>\n",
       "      <td>0</td>\n",
       "      <td>0.0</td>\n",
       "      <td>0.0</td>\n",
       "      <td>0.0000</td>\n",
       "      <td>neutral</td>\n",
       "    </tr>\n",
       "    <tr>\n",
       "      <th>2</th>\n",
       "      <td>2</td>\n",
       "      <td>1K3</td>\n",
       "      <td>4</td>\n",
       "      <td>work expected sprung higher capacity think mad...</td>\n",
       "      <td>2012-12-23</td>\n",
       "      <td>715</td>\n",
       "      <td>0</td>\n",
       "      <td>0</td>\n",
       "      <td>0</td>\n",
       "      <td>0</td>\n",
       "      <td>0.0</td>\n",
       "      <td>0.0</td>\n",
       "      <td>0.4019</td>\n",
       "      <td>positive</td>\n",
       "    </tr>\n",
       "    <tr>\n",
       "      <th>3</th>\n",
       "      <td>3</td>\n",
       "      <td>1m2</td>\n",
       "      <td>5</td>\n",
       "      <td>think worked greathad diff bran 64gb card went...</td>\n",
       "      <td>2013-11-21</td>\n",
       "      <td>382</td>\n",
       "      <td>0</td>\n",
       "      <td>0</td>\n",
       "      <td>0</td>\n",
       "      <td>0</td>\n",
       "      <td>0.0</td>\n",
       "      <td>0.0</td>\n",
       "      <td>0.6486</td>\n",
       "      <td>positive</td>\n",
       "    </tr>\n",
       "    <tr>\n",
       "      <th>4</th>\n",
       "      <td>4</td>\n",
       "      <td>2&amp;amp;1/2Men</td>\n",
       "      <td>5</td>\n",
       "      <td>bought retail packaging arrived legit orange e...</td>\n",
       "      <td>2013-07-13</td>\n",
       "      <td>513</td>\n",
       "      <td>0</td>\n",
       "      <td>0</td>\n",
       "      <td>0</td>\n",
       "      <td>0</td>\n",
       "      <td>0.0</td>\n",
       "      <td>0.0</td>\n",
       "      <td>0.8591</td>\n",
       "      <td>positive</td>\n",
       "    </tr>\n",
       "  </tbody>\n",
       "</table>\n",
       "</div>"
      ],
      "text/plain": [
       "   Unnamed: 0  reviewerName  overall  \\\n",
       "0           0           NaN        4   \n",
       "1           1          0mie        5   \n",
       "2           2           1K3        4   \n",
       "3           3           1m2        5   \n",
       "4           4  2&amp;1/2Men        5   \n",
       "\n",
       "                                          reviewText  reviewTime  day_diff  \\\n",
       "0                                              issue  2014-07-23       138   \n",
       "1  purchased device worked advertised never much ...  2013-10-25       409   \n",
       "2  work expected sprung higher capacity think mad...  2012-12-23       715   \n",
       "3  think worked greathad diff bran 64gb card went...  2013-11-21       382   \n",
       "4  bought retail packaging arrived legit orange e...  2013-07-13       513   \n",
       "\n",
       "   helpful_yes  helpful_no  total_vote  score_pos_neg_diff  \\\n",
       "0            0           0           0                   0   \n",
       "1            0           0           0                   0   \n",
       "2            0           0           0                   0   \n",
       "3            0           0           0                   0   \n",
       "4            0           0           0                   0   \n",
       "\n",
       "   score_average_rating  wilson_lower_bound   senti sentiment  \n",
       "0                   0.0                 0.0  0.0000   neutral  \n",
       "1                   0.0                 0.0  0.0000   neutral  \n",
       "2                   0.0                 0.0  0.4019  positive  \n",
       "3                   0.0                 0.0  0.6486  positive  \n",
       "4                   0.0                 0.0  0.8591  positive  "
      ]
     },
     "execution_count": 80,
     "metadata": {},
     "output_type": "execute_result"
    }
   ],
   "source": [
    "data.head()"
   ]
  },
  {
   "cell_type": "code",
   "execution_count": 84,
   "id": "5d369833-1aa4-4525-95b0-050f4245f948",
   "metadata": {},
   "outputs": [
    {
     "data": {
      "text/plain": [
       "<Axes: title={'center': 'sentimental counts'}, xlabel='sentiment'>"
      ]
     },
     "execution_count": 84,
     "metadata": {},
     "output_type": "execute_result"
    },
    {
     "data": {
      "image/png": "[encoded data removed]",
      "text/plain": [
       "<Figure size 640x480 with 1 Axes>"
      ]
     },
     "metadata": {},
     "output_type": "display_data"
    }
   ],
   "source": [
    "data[\"sentiment\"].value_counts().plot(kind='bar',title='sentimental counts')"
   ]
  },
  {
   "cell_type": "code",
   "execution_count": 90,
   "id": "95ac362c-9c8f-47c6-8378-69cba44ccb80",
   "metadata": {},
   "outputs": [
    {
     "data": {
      "image/png": "[encoded data removed]",
      "text/plain": [
       "<Figure size 600x600 with 1 Axes>"
      ]
     },
     "metadata": {},
     "output_type": "display_data"
    }
   ],
   "source": [
    "plt.figure(figsize=(6,6))\n",
    "data[\"sentiment\"].value_counts().plot(kind='pie', colors=['green', 'red', 'blue'])\n",
    "plt.title(\"Sentiment Distribution\")\n",
    "plt.ylabel(\"\") \n",
    "plt.show()\n"
   ]
  },
  {
   "cell_type": "code",
   "execution_count": 93,
   "id": "269c202a-7eb6-44f1-b4e7-466b77622592",
   "metadata": {},
   "outputs": [
    {
     "data": {
      "image/png": "[encoded data removed]",
      "text/plain": [
       "<Figure size 800x500 with 1 Axes>"
      ]
     },
     "metadata": {},
     "output_type": "display_data"
    }
   ],
   "source": [
    "plt.figure(figsize=(8, 5))\n",
    "sns.boxplot(x=\"sentiment\", y=\"senti\",data=data, palette=\"coolwarm\",hue='sentiment')\n",
    "plt.title(\"Sentiment Score Box Plot\")\n",
    "plt.xlabel(\"Sentiment\")\n",
    "plt.ylabel(\"Sentiment Score\")\n",
    "plt.show()\n"
   ]
  },
  {
   "cell_type": "code",
   "execution_count": null,
   "id": "722d1924-92e0-4849-b06c-9d791458dad0",
   "metadata": {},
   "outputs": [],
   "source": []
  }
 ],
 "metadata": {
  "kernelspec": {
   "display_name": "Python 3 (ipykernel)",
   "language": "python",
   "name": "python3"
  },
  "language_info": {
   "codemirror_mode": {
    "name": "ipython",
    "version": 3
   },
   "file_extension": ".py",
   "mimetype": "text/x-python",
   "name": "python",
   "nbconvert_exporter": "python",
   "pygments_lexer": "ipython3",
   "version": "3.12.4"
  }
 },
 "nbformat": 4,
 "nbformat_minor": 5
}
